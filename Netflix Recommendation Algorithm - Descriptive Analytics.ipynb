{
 "cells": [
  {
   "cell_type": "code",
   "execution_count": 1,
   "metadata": {},
   "outputs": [],
   "source": [
    "import pandas as pd\n",
    "\n",
    "from sklearn.metrics.pairwise import euclidean_distances\n",
    "from sklearn.cluster import AgglomerativeClustering"
   ]
  },
  {
   "cell_type": "code",
   "execution_count": 3,
   "metadata": {},
   "outputs": [],
   "source": [
    "movielens_data_path = ('C:/Users/ozded/Downloads/ml-100k/u.item')\n",
    "\n",
    "movies = pd.read_table(\n",
    "            movielens_data_path, \n",
    "            names = ['ID', 'Title', 'ReleaseDate', 'VideoReleaseDate',\n",
    "                   'IMDB', 'Unknown', 'Action', 'Adventure', 'Animation',\n",
    "                   'Childrens', 'Comedy', 'Crime', 'Documentary', 'Drama',\n",
    "                   'Fantasy', 'FilmNoir', 'Horror', 'Musical', 'Mystery', \n",
    "                   'Romance', 'SciFi', 'Thriller', 'War', 'Western'],\n",
    "            encoding = 'latin1', \n",
    "            sep = '|',\n",
    "            header = None,\n",
    "            quotechar = '\"'\n",
    "        )\n",
    "movies = (movies\n",
    "          .drop(axis = 1, columns = ['ID', 'ReleaseDate', 'IMDB', 'VideoReleaseDate'])\n",
    "          .drop_duplicates())"
   ]
  },
  {
   "cell_type": "code",
   "execution_count": 5,
   "metadata": {},
   "outputs": [
    {
     "name": "stdout",
     "output_type": "stream",
     "text": [
      "<class 'pandas.core.frame.DataFrame'>\n",
      "Int64Index: 1664 entries, 0 to 1681\n",
      "Data columns (total 20 columns):\n",
      " #   Column       Non-Null Count  Dtype \n",
      "---  ------       --------------  ----- \n",
      " 0   Title        1664 non-null   object\n",
      " 1   Unknown      1664 non-null   int64 \n",
      " 2   Action       1664 non-null   int64 \n",
      " 3   Adventure    1664 non-null   int64 \n",
      " 4   Animation    1664 non-null   int64 \n",
      " 5   Childrens    1664 non-null   int64 \n",
      " 6   Comedy       1664 non-null   int64 \n",
      " 7   Crime        1664 non-null   int64 \n",
      " 8   Documentary  1664 non-null   int64 \n",
      " 9   Drama        1664 non-null   int64 \n",
      " 10  Fantasy      1664 non-null   int64 \n",
      " 11  FilmNoir     1664 non-null   int64 \n",
      " 12  Horror       1664 non-null   int64 \n",
      " 13  Musical      1664 non-null   int64 \n",
      " 14  Mystery      1664 non-null   int64 \n",
      " 15  Romance      1664 non-null   int64 \n",
      " 16  SciFi        1664 non-null   int64 \n",
      " 17  Thriller     1664 non-null   int64 \n",
      " 18  War          1664 non-null   int64 \n",
      " 19  Western      1664 non-null   int64 \n",
      "dtypes: int64(19), object(1)\n",
      "memory usage: 273.0+ KB\n"
     ]
    }
   ],
   "source": [
    "movies.info()"
   ]
  },
  {
   "cell_type": "code",
   "execution_count": 7,
   "metadata": {},
   "outputs": [
    {
     "data": {
      "text/plain": [
       "0                                      Toy Story (1995)\n",
       "1                                      GoldenEye (1995)\n",
       "2                                     Four Rooms (1995)\n",
       "3                                     Get Shorty (1995)\n",
       "4                                        Copycat (1995)\n",
       "5     Shanghai Triad (Yao a yao yao dao waipo qiao) ...\n",
       "6                                 Twelve Monkeys (1995)\n",
       "7                                           Babe (1995)\n",
       "8                               Dead Man Walking (1995)\n",
       "9                                    Richard III (1995)\n",
       "10                                 Seven (Se7en) (1995)\n",
       "11                           Usual Suspects, The (1995)\n",
       "12                              Mighty Aphrodite (1995)\n",
       "13                                   Postino, Il (1994)\n",
       "14                            Mr. Holland's Opus (1995)\n",
       "15                   French Twist (Gazon maudit) (1995)\n",
       "16                           From Dusk Till Dawn (1996)\n",
       "17                            White Balloon, The (1995)\n",
       "18                                Antonia's Line (1995)\n",
       "19                            Angels and Insects (1995)\n",
       "20                        Muppet Treasure Island (1996)\n",
       "21                                    Braveheart (1995)\n",
       "22                                   Taxi Driver (1976)\n",
       "23                           Rumble in the Bronx (1995)\n",
       "24                                 Birdcage, The (1996)\n",
       "25                        Brothers McMullen, The (1995)\n",
       "26                                      Bad Boys (1995)\n",
       "27                                     Apollo 13 (1995)\n",
       "28                                Batman Forever (1995)\n",
       "29                                 Belle de jour (1967)\n",
       "30                                  Crimson Tide (1995)\n",
       "31                                         Crumb (1994)\n",
       "32                                     Desperado (1995)\n",
       "33                          Doom Generation, The (1995)\n",
       "34              Free Willy 2: The Adventure Home (1995)\n",
       "35                                      Mad Love (1995)\n",
       "36                                         Nadja (1994)\n",
       "37                                      Net, The (1995)\n",
       "38                                  Strange Days (1995)\n",
       "39    To Wong Foo, Thanks for Everything! Julie Newm...\n",
       "Name: Title, dtype: object"
      ]
     },
     "execution_count": 7,
     "metadata": {},
     "output_type": "execute_result"
    }
   ],
   "source": [
    "movies.iloc[0:40, 0]"
   ]
  },
  {
   "cell_type": "code",
   "execution_count": 8,
   "metadata": {},
   "outputs": [],
   "source": [
    "X = movies.iloc[:, 1:20]"
   ]
  },
  {
   "cell_type": "code",
   "execution_count": 9,
   "metadata": {},
   "outputs": [],
   "source": [
    "distances = euclidean_distances(X, X)"
   ]
  },
  {
   "cell_type": "code",
   "execution_count": 10,
   "metadata": {},
   "outputs": [],
   "source": [
    "clusterMovies = AgglomerativeClustering(\n",
    "    n_clusters = 10, \n",
    "    affinity = 'euclidean', \n",
    "    linkage = 'ward')"
   ]
  },
  {
   "cell_type": "code",
   "execution_count": 12,
   "metadata": {},
   "outputs": [
    {
     "data": {
      "text/plain": [
       "array([6, 3, 7, ..., 5, 0, 9], dtype=int64)"
      ]
     },
     "execution_count": 12,
     "metadata": {},
     "output_type": "execute_result"
    }
   ],
   "source": [
    "clusterMovies.fit_predict(X)"
   ]
  }
 ],
 "metadata": {
  "kernelspec": {
   "display_name": "Python 3",
   "language": "python",
   "name": "python3"
  },
  "language_info": {
   "codemirror_mode": {
    "name": "ipython",
    "version": 3
   },
   "file_extension": ".py",
   "mimetype": "text/x-python",
   "name": "python",
   "nbconvert_exporter": "python",
   "pygments_lexer": "ipython3",
   "version": "3.8.3"
  }
 },
 "nbformat": 4,
 "nbformat_minor": 4
}
